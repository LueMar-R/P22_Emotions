{
 "cells": [
  {
   "cell_type": "markdown",
   "metadata": {},
   "source": [
    "# Reconnaissance des Emotions - 1/2"
   ]
  },
  {
   "cell_type": "markdown",
   "metadata": {},
   "source": [
    "## - Exploration des données et création des Datasets, \n",
    "\n",
    "## - Entraînement du modèle d'identification des émotions"
   ]
  },
  {
   "cell_type": "markdown",
   "metadata": {},
   "source": [
    "<hr>"
   ]
  },
  {
   "cell_type": "markdown",
   "metadata": {},
   "source": [
    "- <a href='#1'>Prévisualisation des données</a>\n",
    "- <a href='#2'>Création des datasets d'apprentissage et de test</a>\n",
    "- <a href='#3'>Préparation des données</a>\n",
    "- <a href='#4'>Entrainement du modèle de reconnaissance des émotions</a>\n",
    "- <a href='#5'>Résultats</a> "
   ]
  },
  {
   "cell_type": "markdown",
   "metadata": {},
   "source": [
    "<hr>"
   ]
  },
  {
   "cell_type": "code",
   "execution_count": 1,
   "metadata": {},
   "outputs": [],
   "source": [
    "import os\n",
    "import sys\n",
    "import numpy as np\n",
    "import time\n",
    "import cv2\n",
    "import pickle\n",
    "\n",
    "from glob import glob\n",
    "\n",
    "from sklearn.metrics import accuracy_score, confusion_matrix\n",
    "\n",
    "import matplotlib\n",
    "import matplotlib.pyplot as plt\n",
    "import seaborn as sns\n",
    "\n",
    "import tensorflow as tf\n",
    "from tensorflow.keras import layers, models, optimizers\n",
    "from keras.layers import Conv2D, experimental, Dense, MaxPooling2D, Flatten, Dropout\n",
    "from keras.models import Sequential\n",
    "from keras.utils import to_categorical"
   ]
  },
  {
   "cell_type": "markdown",
   "metadata": {},
   "source": [
    "### <a id='1'>Prévisualisation des données</a>"
   ]
  },
  {
   "cell_type": "code",
   "execution_count": 2,
   "metadata": {},
   "outputs": [
    {
     "name": "stdout",
     "output_type": "stream",
     "text": [
      "il y a 7 classes :\n",
      "{0: 'angry', 1: 'disgust', 2: 'fear', 3: 'happy', 4: 'neutral', 5: 'sad', 6: 'surprise'}\n"
     ]
    }
   ],
   "source": [
    "tmp = os.listdir(\"./images/data/train\")\n",
    "\n",
    "LABELS ={}\n",
    "for clas, feeling in enumerate(tmp):\n",
    "    LABELS[clas]=feeling\n",
    "\n",
    "NUM_CLASS = len(tmp)\n",
    "\n",
    "print(\"il y a\", NUM_CLASS, \"classes :\")\n",
    "print(LABELS)"
   ]
  },
  {
   "cell_type": "code",
   "execution_count": 3,
   "metadata": {},
   "outputs": [
    {
     "name": "stdout",
     "output_type": "stream",
     "text": [
      "Nombre d'images de chaque classe dans le train set :\n",
      "[('angry', 3995), ('disgust', 436), ('fear', 4097), ('happy', 7215), ('neutral', 4965), ('sad', 4830), ('surprise', 3171)]\n",
      "Et dans le test set :\n",
      "[('angry', 958), ('disgust', 111), ('fear', 1024), ('happy', 1774), ('neutral', 1233), ('sad', 1247), ('surprise', 831)]\n"
     ]
    }
   ],
   "source": [
    "trainset = []\n",
    "for i in tmp:\n",
    "    chemin = \"./images/data/train/\"+i\n",
    "    img = glob(\"%s/*.jpg\" %chemin)\n",
    "    img = [os.path.abspath(x) for x in img]\n",
    "    trainset.append(img)\n",
    "\n",
    "testset = []\n",
    "for i in tmp:\n",
    "    chemin = \"./images/data/test/\"+i\n",
    "    img = glob(\"%s/*.jpg\" %chemin)\n",
    "    img = [os.path.abspath(x) for x in img]\n",
    "    testset.append(img)\n",
    "\n",
    "print(\"Nombre d'images de chaque classe dans le train set :\")\n",
    "print([(LABELS[i], len(trainset[i])) for i in range(len(trainset))])\n",
    "print(\"Et dans le test set :\")\n",
    "print([(LABELS[i], len(testset[i])) for i in range(len(testset))])"
   ]
  },
  {
   "cell_type": "markdown",
   "metadata": {},
   "source": [
    "### <a id='2'>Création des datasets d'apprentissage et de test</a>\n",
    "\n",
    "Les fichiers pickles de X_train, Y_train, X_test et Y_test étant fournis pour l'entrainement du modèle, il est inutile de relancer les cellules de cette partie."
   ]
  },
  {
   "cell_type": "code",
   "execution_count": 4,
   "metadata": {},
   "outputs": [],
   "source": [
    "paths=[]\n",
    "y_train=[]\n",
    "\n",
    "for i in range(len(trainset)):\n",
    "    for j in range(len(trainset[i])):\n",
    "        paths.append(trainset[i][j])\n",
    "        y_train.append(i)"
   ]
  },
  {
   "cell_type": "code",
   "execution_count": null,
   "metadata": {},
   "outputs": [],
   "source": [
    "X_train=[]\n",
    "for p in paths:\n",
    "    X_train.append(cv2.imread(p, 0))"
   ]
  },
  {
   "cell_type": "code",
   "execution_count": 5,
   "metadata": {},
   "outputs": [],
   "source": [
    "paths2=[]\n",
    "y_test=[]\n",
    "\n",
    "for i in range(len(testset)):\n",
    "    for j in range(len(testset[i])):\n",
    "        paths2.append(testset[i][j])\n",
    "        y_test.append(i)"
   ]
  },
  {
   "cell_type": "code",
   "execution_count": null,
   "metadata": {},
   "outputs": [],
   "source": [
    "X_test=[]\n",
    "for p in paths2:\n",
    "    X_test.append(cv2.imread(p, 0))"
   ]
  },
  {
   "cell_type": "markdown",
   "metadata": {},
   "source": [
    "### <a id='3'>Préparation des données</a>"
   ]
  },
  {
   "cell_type": "markdown",
   "metadata": {},
   "source": [
    "###### Chargement des données"
   ]
  },
  {
   "cell_type": "code",
   "execution_count": 6,
   "metadata": {},
   "outputs": [],
   "source": [
    "# dé-commenter éventuellement pour charger listes créées précédemment.\n",
    "# sinon, les fichiers contenant les features et targets nécessaires à l'entrainement \n",
    "# du CNN sont fournis à la prochaine étape.\n",
    "\n",
    "#with open('xtrain.pickle', 'rb') as f:\n",
    "#    X_train = pickle.load(f)\n",
    "#with open('xtest.pickle', 'rb') as f:\n",
    "#    X_test = pickle.load(f)"
   ]
  },
  {
   "cell_type": "code",
   "execution_count": 7,
   "metadata": {},
   "outputs": [
    {
     "name": "stdout",
     "output_type": "stream",
     "text": [
      "(48, 48)\n",
      "28709\n"
     ]
    },
    {
     "data": {
      "image/png": "[encoded data removed]",
      "text/plain": [
       "<Figure size 432x288 with 1 Axes>"
      ]
     },
     "metadata": {
      "needs_background": "light"
     },
     "output_type": "display_data"
    }
   ],
   "source": [
    "# test\n",
    "plt.imshow(X_train[12])\n",
    "print(X_train[12].shape) \n",
    "print(len(X_train))\n",
    "# les images du dataset d'entrée sont toutes des images BW \n",
    "# de 48 x 48 pixels. On avait 28709 images dans ce dataset."
   ]
  },
  {
   "cell_type": "markdown",
   "metadata": {},
   "source": [
    "###### Mélange des données"
   ]
  },
  {
   "cell_type": "code",
   "execution_count": 8,
   "metadata": {},
   "outputs": [
    {
     "name": "stdout",
     "output_type": "stream",
     "text": [
      "(28709, 48, 48)\n",
      "(28709,)\n"
     ]
    }
   ],
   "source": [
    "# pour l'entraînement\n",
    "index = np.random.permutation([i for i in range(len(y_train))])\n",
    "\n",
    "X_train = np.asarray(X_train)[index]\n",
    "y_train = np.asarray(y_train)[index]\n",
    "print(X_train.shape)\n",
    "print(y_train.shape)"
   ]
  },
  {
   "cell_type": "code",
   "execution_count": 9,
   "metadata": {},
   "outputs": [
    {
     "name": "stdout",
     "output_type": "stream",
     "text": [
      "(7178, 48, 48)\n",
      "(7178,)\n"
     ]
    }
   ],
   "source": [
    "# pour les tests\n",
    "index2 = np.random.permutation([i for i in range(len(y_test))])\n",
    "\n",
    "X_test = np.asarray(X_test)[index2]\n",
    "y_test = np.asarray(y_test)[index2]\n",
    "print(X_test.shape)\n",
    "print(y_test.shape)"
   ]
  },
  {
   "cell_type": "code",
   "execution_count": 10,
   "metadata": {},
   "outputs": [
    {
     "data": {
      "image/png": "[encoded data removed]",
      "text/plain": [
       "<Figure size 1080x432 with 10 Axes>"
      ]
     },
     "metadata": {
      "needs_background": "light"
     },
     "output_type": "display_data"
    }
   ],
   "source": [
    "# visualisation\n",
    "plt.figure(figsize=(15,6))\n",
    "for i in range(10):\n",
    "    plt.subplot(2,5,i+1)\n",
    "    plt.imshow( np.uint8(X_train[i]), cmap='gray')\n",
    "    plt.title(LABELS[y_train[i]])\n",
    "    plt.axis('off')\n",
    "plt.show()"
   ]
  },
  {
   "cell_type": "markdown",
   "metadata": {},
   "source": [
    "###### Prétraitement en vue de l'entrainement avec un CNN Séquentiel "
   ]
  },
  {
   "cell_type": "code",
   "execution_count": 11,
   "metadata": {},
   "outputs": [],
   "source": [
    "# standardisation, redimentionnement des features\n",
    "X_train = X_train.astype('float') / 255\n",
    "X_test = X_test.astype('float') / 255\n",
    "X_train = X_train.reshape(len(X_train),48,48,1)\n",
    "X_test = X_test.reshape(len(X_test),48,48,1)"
   ]
  },
  {
   "cell_type": "code",
   "execution_count": 12,
   "metadata": {},
   "outputs": [],
   "source": [
    "# catégorisation des target\n",
    "y_test.reshape(len(y_test),1)\n",
    "y_train.reshape(len(y_train),1)\n",
    "Y_train = to_categorical(y_train, num_classes=NUM_CLASS).astype(int)\n",
    "Y_test = to_categorical(y_test, num_classes=NUM_CLASS).astype(int)"
   ]
  },
  {
   "cell_type": "code",
   "execution_count": 13,
   "metadata": {},
   "outputs": [
    {
     "name": "stdout",
     "output_type": "stream",
     "text": [
      "[0 0 0 0 0 1 0] 5 sad\n"
     ]
    }
   ],
   "source": [
    "# vérification\n",
    "print(Y_train[12], y_train[12], LABELS[y_train[12]]) #test"
   ]
  },
  {
   "cell_type": "code",
   "execution_count": 17,
   "metadata": {},
   "outputs": [
    {
     "name": "stdout",
     "output_type": "stream",
     "text": [
      "[0 0 0 0 0 0 1] 6 fear\n"
     ]
    }
   ],
   "source": [
    "# vérification\n",
    "print(Y_test[4], y_test[4], LABELS[y_train[4]]) #test"
   ]
  },
  {
   "cell_type": "markdown",
   "metadata": {},
   "source": [
    "```python\n",
    "# enregistrement des features et targets dans des fichiers pickle\n",
    "with open('X_train.pickle', 'wb') as f:\n",
    "    pickle.dump(X_train, f)\n",
    "with open('X_test.pickle', 'wb') as f:\n",
    "    pickle.dump(X_test, f)\n",
    "with open('Y_train.pickle', 'wb') as f:\n",
    "    pickle.dump(Y_train, f)\n",
    "with open('Y_test.pickle', 'wb') as f:\n",
    "    pickle.dump(Y_test, f)\n",
    "with open('y_train.pickle', 'wb') as f:\n",
    "    pickle.dump(y_train, f)\n",
    "with open('y_test.pickle', 'wb') as f:\n",
    "    pickle.dump(y_test, f)\n",
    "```"
   ]
  },
  {
   "cell_type": "markdown",
   "metadata": {},
   "source": [
    "### <a id='4'>Entrainement du modèle de reconnaissance des émotions</a>"
   ]
  },
  {
   "cell_type": "markdown",
   "metadata": {},
   "source": [
    "###### Chargement des données "
   ]
  },
  {
   "cell_type": "code",
   "execution_count": 20,
   "metadata": {},
   "outputs": [],
   "source": [
    "# l'exécution de cette cellule permet de charger les données créées à l'étape suivante.\n",
    "\n",
    "with open('X_train.pickle', 'rb') as f:\n",
    "    X_train = pickle.load(f)\n",
    "with open('X_test.pickle', 'rb') as f:\n",
    "    X_test = pickle.load(f)\n",
    "with open('Y_train.pickle', 'rb') as f:\n",
    "    Y_train = pickle.load(f)\n",
    "with open('Y_test.pickle', 'rb') as f:\n",
    "    Y_test = pickle.load(f)\n",
    "with open('y_test.pickle', 'rb') as f:\n",
    "    Y_test = pickle.load(f)"
   ]
  },
  {
   "cell_type": "markdown",
   "metadata": {},
   "source": [
    "###### Création du modèle séquentiel"
   ]
  },
  {
   "cell_type": "markdown",
   "metadata": {},
   "source": [
    "Différents modèles on été réalisés pour tenter d'obtenir un score acceptable. \n",
    "Ces modèles on été entraînés sur Google Colab avec un grand nombre d'epochs pour obtenir rapidement un résultat stable et pourvoir réaliser des modifications. Après de moltiples tentatives, on présente ci-dessous les meilleurs résultats obtenus."
   ]
  },
  {
   "cell_type": "code",
   "execution_count": 11,
   "metadata": {},
   "outputs": [],
   "source": [
    "modelX = models.Sequential()\n",
    "\n",
    "modelX.add(Conv2D(64, 7, padding=\"same\", activation='relu', input_shape=(48,48,1)))\n",
    "modelX.add(MaxPooling2D(2))\n",
    "modelX.add(Dropout(0.5))\n",
    "modelX.add(Conv2D(64, 3, padding=\"same\", activation='relu'))\n",
    "modelX.add(MaxPooling2D(2))\n",
    "modelX.add(Dropout(0.5))\n",
    "modelX.add(Conv2D(128, 3, padding=\"same\", activation='relu'))\n",
    "modelX.add(MaxPooling2D(2))\n",
    "modelX.add(Dropout(0.5))\n",
    "modelX.add(Flatten())\n",
    "modelX.add(Dense(64, activation=\"relu\"))\n",
    "modelX.add(Dropout(0.25))\n",
    "modelX.add(Dense(32, activation=\"relu\"))\n",
    "modelX.add(Dropout(0.25))\n",
    "modelX.add(Dense(NUM_CLASS, activation='softmax'))"
   ]
  },
  {
   "cell_type": "code",
   "execution_count": 12,
   "metadata": {},
   "outputs": [],
   "source": [
    "# premier entraînement avec Adamax, hyper-paramètres par défaut\n",
    "modelX.compile(optimizer=optimizers.Adamax(), loss='categorical_crossentropy', metrics=['accuracy'])"
   ]
  },
  {
   "cell_type": "code",
   "execution_count": null,
   "metadata": {},
   "outputs": [],
   "source": [
    "history = modelX.fit(X_train, Y_train, epochs=100, batch_size=8, validation_split=0.2)"
   ]
  },
  {
   "cell_type": "markdown",
   "metadata": {},
   "source": [
    "A l'issue de ce premier entrainement, on obtient une accuracy sur les données de validation de 50%. \n",
    "On procède à un second entrainement du modèle pour tenter d'améliorer ce score.\n",
    "Après de nombreuses tentatives, on trouve les hyperparamètres optimaux suivants :\n",
    "- optimizer : Adamax,\n",
    "- learning rate : 0.00001,\n",
    "- beta_1 : 0.97, \n",
    "- beta_2 : 0.97, \n",
    "- epsilon : 1e-07, \n",
    "- loss : categorical_crossentropy\n",
    "- metrics : accuracy"
   ]
  },
  {
   "cell_type": "code",
   "execution_count": 13,
   "metadata": {},
   "outputs": [],
   "source": [
    "# second entraînement\n",
    "modelX.compile(optimizer=optimizers.Adamax(learning_rate=0.00001, \n",
    "                                           beta_1=0.97, beta_2=0.97, \n",
    "                                           epsilon=1e-07), \n",
    "               loss='categorical_crossentropy', \n",
    "               metrics=['accuracy'])"
   ]
  },
  {
   "cell_type": "code",
   "execution_count": null,
   "metadata": {},
   "outputs": [],
   "source": [
    "history2 = modelX.fit(X_train, Y_train, epochs=20, batch_size=5, validation_split=0.2)"
   ]
  },
  {
   "cell_type": "raw",
   "metadata": {},
   "source": [
    "# Extrait des résultat obtenus avec Colab\n",
    "\n",
    "4594/4594 [==============================] - 18s 4ms/step - loss: 1.0396 - accuracy: 0.6175 - val_loss: 0.7255 - val_accuracy: 0.7623\n",
    "Epoch 15/20\n",
    "4594/4594 [==============================] - 18s 4ms/step - loss: 1.0354 - accuracy: 0.6231 - val_loss: 0.7256 - val_accuracy: 0.7656\n",
    "Epoch 16/20\n",
    "4594/4594 [==============================] - 19s 4ms/step - loss: 1.0481 - accuracy: 0.6191 - val_loss: 0.7272 - val_accuracy: 0.7642\n",
    "Epoch 17/20\n",
    "4594/4594 [==============================] - 20s 4ms/step - loss: 1.0418 - accuracy: 0.6256 - val_loss: 0.7292 - val_accuracy: 0.7631\n",
    "Epoch 18/20\n",
    "4594/4594 [==============================] - 19s 4ms/step - loss: 1.0308 - accuracy: 0.6256 - val_loss: 0.7293 - val_accuracy: 0.7642\n",
    "Epoch 19/20\n",
    "4594/4594 [==============================] - 20s 4ms/step - loss: 1.0439 - accuracy: 0.6191 - val_loss: 0.7284 - val_accuracy: 0.7631\n",
    "Epoch 20/20\n",
    "4594/4594 [==============================] - 19s 4ms/step - loss: 1.0521 - accuracy: 0.6235 - val_loss: 0.7316 - val_accuracy: 0.7628"
   ]
  },
  {
   "cell_type": "code",
   "execution_count": null,
   "metadata": {},
   "outputs": [],
   "source": [
    " #modelX.save('modelX_76')"
   ]
  },
  {
   "cell_type": "markdown",
   "metadata": {},
   "source": [
    "###### Validation sur la base de données de test"
   ]
  },
  {
   "cell_type": "code",
   "execution_count": 21,
   "metadata": {},
   "outputs": [],
   "source": [
    "modelX = models.load_model('modelX_76')"
   ]
  },
  {
   "cell_type": "code",
   "execution_count": 22,
   "metadata": {},
   "outputs": [
    {
     "data": {
      "text/plain": [
       "(7178, 48, 48, 1)"
      ]
     },
     "execution_count": 22,
     "metadata": {},
     "output_type": "execute_result"
    }
   ],
   "source": [
    "len(X_test)\n",
    "X_test.shape"
   ]
  },
  {
   "cell_type": "code",
   "execution_count": 23,
   "metadata": {},
   "outputs": [],
   "source": [
    "Y_pred = modelX.predict(X_test)"
   ]
  },
  {
   "cell_type": "code",
   "execution_count": 24,
   "metadata": {},
   "outputs": [],
   "source": [
    "y_pred=[]\n",
    "for y in Y_pred:\n",
    "    y_pred.append(np.argmax(y))"
   ]
  },
  {
   "cell_type": "code",
   "execution_count": 25,
   "metadata": {
    "scrolled": true
   },
   "outputs": [],
   "source": [
    "cf_matrix = confusion_matrix(y_test, y_pred)"
   ]
  },
  {
   "cell_type": "code",
   "execution_count": 59,
   "metadata": {},
   "outputs": [
    {
     "name": "stdout",
     "output_type": "stream",
     "text": [
      "0 : angry\n",
      "1 : disgust\n",
      "2 : fear\n",
      "3 : happy\n",
      "4 : neutral\n",
      "5 : sad\n",
      "6 : surprise\n"
     ]
    },
    {
     "data": {
      "image/png": "[encoded data removed]",
      "text/plain": [
       "<Figure size 432x288 with 1 Axes>"
      ]
     },
     "metadata": {
      "needs_background": "light"
     },
     "output_type": "display_data"
    }
   ],
   "source": [
    "sns.heatmap(cf_matrix/np.sum(cf_matrix), \n",
    "            annot=True, fmt='.1%', cmap=\"YlOrBr\", cbar=False, \n",
    "            linewidths=1, )\n",
    "for i in LABELS:\n",
    "    print (i, \":\", LABELS[i])"
   ]
  },
  {
   "cell_type": "markdown",
   "metadata": {},
   "source": [
    "### <a id='5'>Résultats</a>\n",
    "\n",
    "Le modèle semble a avoir plus de mal à reconnaître certains sentiments que d'autres. Notamment le dégoût, comme on le voit sur la matrice de confusion ci-dessus.\n",
    "\n",
    "Rappelons cependant que les images du train set étaient réparties de la façon suivante :<br>\n",
    "Nombre d'images de chaque classe dans le train set :<br>\n",
    "`[('angry', 3995), ('disgust', 436), ('fear', 4097), ('happy', 7215), ('neutral', 4965), ('sad', 4830), ('surprise', 3171)]`\n",
    "\n",
    "Le modèle a donc été largement entrainé sur les images \"happy\", tandis que les \"disgust\" ne représente qu'une toute petite partie des données auquelles il a été confronté. <br>\n",
    "Les résultats de l'entrainement sont le reflet de ce déséquilibre."
   ]
  }
 ],
 "metadata": {
  "kernelspec": {
   "display_name": "Python 3",
   "language": "python",
   "name": "python3"
  },
  "language_info": {
   "codemirror_mode": {
    "name": "ipython",
    "version": 3
   },
   "file_extension": ".py",
   "mimetype": "text/x-python",
   "name": "python",
   "nbconvert_exporter": "python",
   "pygments_lexer": "ipython3",
   "version": "3.6.12"
  }
 },
 "nbformat": 4,
 "nbformat_minor": 4
}
